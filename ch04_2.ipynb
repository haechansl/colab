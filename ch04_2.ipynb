{
  "nbformat": 4,
  "nbformat_minor": 0,
  "metadata": {
    "colab": {
      "provenance": []
    },
    "kernelspec": {
      "name": "python3",
      "display_name": "Python 3"
    },
    "language_info": {
      "name": "python"
    }
  },
  "cells": [
    {
      "cell_type": "code",
      "execution_count": null,
      "metadata": {
        "id": "LnciO7_T8OYE"
      },
      "outputs": [],
      "source": [
        "from google.colab import drive\n",
        "import cv2\n",
        "from google.colab.patches import cv2_imshow\n",
        "import numpy as np\n",
        "import matplotlib.pyplot as plt"
      ]
    },
    {
      "cell_type": "code",
      "source": [
        "drive.mount('/content/gdrive')"
      ],
      "metadata": {
        "colab": {
          "base_uri": "https://localhost:8080/"
        },
        "id": "tSx1Loj68Zub",
        "outputId": "ba854487-7d6b-4ed7-f9f7-e32afb3db0e4"
      },
      "execution_count": null,
      "outputs": [
        {
          "output_type": "stream",
          "name": "stdout",
          "text": [
            "Mounted at /content/gdrive\n"
          ]
        }
      ]
    },
    {
      "cell_type": "code",
      "source": [
        "img= cv2.imread('/content/gdrive/My Drive/Colab IP/Images/cell-bright.bmp')"
      ],
      "metadata": {
        "id": "F4ILu3nc8ef7"
      },
      "execution_count": null,
      "outputs": []
    },
    {
      "cell_type": "code",
      "source": [
        "gray_img = cv2.cvtColor(img, cv2.COLOR_BGR2GRAY)"
      ],
      "metadata": {
        "id": "YwDPFuuQ8yte"
      },
      "execution_count": null,
      "outputs": []
    },
    {
      "cell_type": "code",
      "source": [
        "N=18\n",
        "\n",
        "dimh=np.int32(gray_img.shape[0]/N)\n",
        "dimr=np.int32(gray_img.shape[1]/N)\n",
        "\n",
        "dh_rest = np.int32(gray_img.shape[0]%N)\n",
        "dw_rest = np.int32(gray_img.shape[1]%N)\n",
        "\n",
        "mean_ing = np.zeros((N,N))\n",
        "output_img = np.zeros((gray_img[0],gray_img[1]))\n",
        "\n",
        "def mean_function(img,dimh,dimw,h,w) :\n",
        "  count = 1\n",
        "  sum = 0\n",
        "  avg = 0\n",
        "\n",
        "  for y in range(h, h+dimh):\n",
        "    for x in range(w, w+dimw):\n",
        "      sum = sum+img[y,x]\n",
        "      count = count+1\n",
        "  avg = np.int32(sum/count)\n",
        "  return avg\n",
        "\n",
        "for h in range(0,gray_img.shape[0]-dh_rest) :\n",
        "  for w in range(0,gray_img.shape[1]-dw_rest) :\n",
        "    if(gray_img[h,w]>=mean_img[np.int32(h/dimh),np.int32(w/dimw)]) :\n",
        "      output_img[h,w]=255\n",
        "    else:\n",
        "      output_img[h,w]=0\n",
        "\n",
        "    plt.figure(figsize=(20,20))\n",
        "    plt.subplot(1,2,1)\n",
        "    plt.title(\"Image1\")\n",
        "    plt.inshow(gray_img,camp='gray')\n",
        "    plt.axis(\"off\")\n",
        "    plt.subplot(1,2,2)\n",
        "    plt.title(\"Segmented Image\")\n",
        "    plt.imshow(output_img, cmap='gray')\n",
        "    plt.axis(\"off\")\n",
        "    plt.show()"
      ],
      "metadata": {
        "colab": {
          "base_uri": "https://localhost:8080/",
          "height": 219
        },
        "id": "viwgxUoH-AMm",
        "outputId": "7e63e6b2-f793-4ba6-a13b-79b9fa531492"
      },
      "execution_count": null,
      "outputs": [
        {
          "output_type": "error",
          "ename": "TypeError",
          "evalue": "only integer scalar arrays can be converted to a scalar index",
          "traceback": [
            "\u001b[0;31m---------------------------------------------------------------------------\u001b[0m",
            "\u001b[0;31mTypeError\u001b[0m                                 Traceback (most recent call last)",
            "\u001b[0;32m<ipython-input-14-712d4a027454>\u001b[0m in \u001b[0;36m<cell line: 10>\u001b[0;34m()\u001b[0m\n\u001b[1;32m      8\u001b[0m \u001b[0;34m\u001b[0m\u001b[0m\n\u001b[1;32m      9\u001b[0m \u001b[0mmean_ing\u001b[0m \u001b[0;34m=\u001b[0m \u001b[0mnp\u001b[0m\u001b[0;34m.\u001b[0m\u001b[0mzeros\u001b[0m\u001b[0;34m(\u001b[0m\u001b[0;34m(\u001b[0m\u001b[0mN\u001b[0m\u001b[0;34m,\u001b[0m\u001b[0mN\u001b[0m\u001b[0;34m)\u001b[0m\u001b[0;34m)\u001b[0m\u001b[0;34m\u001b[0m\u001b[0;34m\u001b[0m\u001b[0m\n\u001b[0;32m---> 10\u001b[0;31m \u001b[0moutput_img\u001b[0m \u001b[0;34m=\u001b[0m \u001b[0mnp\u001b[0m\u001b[0;34m.\u001b[0m\u001b[0mzeros\u001b[0m\u001b[0;34m(\u001b[0m\u001b[0;34m(\u001b[0m\u001b[0mgray_img\u001b[0m\u001b[0;34m[\u001b[0m\u001b[0;36m0\u001b[0m\u001b[0;34m]\u001b[0m\u001b[0;34m,\u001b[0m\u001b[0mgray_img\u001b[0m\u001b[0;34m[\u001b[0m\u001b[0;36m1\u001b[0m\u001b[0;34m]\u001b[0m\u001b[0;34m)\u001b[0m\u001b[0;34m)\u001b[0m\u001b[0;34m\u001b[0m\u001b[0;34m\u001b[0m\u001b[0m\n\u001b[0m\u001b[1;32m     11\u001b[0m \u001b[0;34m\u001b[0m\u001b[0m\n\u001b[1;32m     12\u001b[0m \u001b[0;32mdef\u001b[0m \u001b[0mmean_function\u001b[0m\u001b[0;34m(\u001b[0m\u001b[0mimg\u001b[0m\u001b[0;34m,\u001b[0m\u001b[0mdimh\u001b[0m\u001b[0;34m,\u001b[0m\u001b[0mdimw\u001b[0m\u001b[0;34m,\u001b[0m\u001b[0mh\u001b[0m\u001b[0;34m,\u001b[0m\u001b[0mw\u001b[0m\u001b[0;34m)\u001b[0m \u001b[0;34m:\u001b[0m\u001b[0;34m\u001b[0m\u001b[0;34m\u001b[0m\u001b[0m\n",
            "\u001b[0;31mTypeError\u001b[0m: only integer scalar arrays can be converted to a scalar index"
          ]
        }
      ]
    }
  ]
}